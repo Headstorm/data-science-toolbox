{
 "cells": [
  {
   "cell_type": "markdown",
   "metadata": {},
   "source": [
    "#### Calculating using built in advanced metric calculation that calculates all metrics. \n",
    "\n",
    "Documentation for the below function call\n",
    "\n",
    "<code>sklearn.metrics.precision_recall_fscore_support(y_true, y_pred, *, beta=1.0, labels=None, pos_label=1, average=None, warn_for='precision', 'recall', 'f-score', sample_weight=None, zero_division='warn') </code>\n",
    "\n",
    "Returns:\n",
    "\n",
    "<code>precision: float (if average is not None) or array of float, shape = [n_unique_labels]\n",
    "recall: float (if average is not None) or array of float, , shape = [n_unique_labels]\n",
    "fbeta_score: float (if average is not None) or array of float, shape = [n_unique_labels]\n",
    "support: None (if average is not None) or array of int, shape = [n_unique_labels]\n",
    "The number of occurrences of each label in y_true.</code>\n",
    "\n",
    "Docs: https://scikit-learn.org/stable/modules/generated/sklearn.metrics.precision_recall_fscore_support.html"
   ]
  },
  {
   "cell_type": "code",
   "execution_count": 8,
   "metadata": {},
   "outputs": [],
   "source": [
    "import numpy as np\n",
    "from sklearn.metrics import precision_recall_fscore_support"
   ]
  },
  {
   "cell_type": "code",
   "execution_count": 9,
   "metadata": {},
   "outputs": [
    {
     "data": {
      "text/plain": [
       "(0.2222222222222222, 0.3333333333333333, 0.26666666666666666, None)"
      ]
     },
     "execution_count": 9,
     "metadata": {},
     "output_type": "execute_result"
    }
   ],
   "source": [
    "y_true = np.array(['cat', 'dog', 'pig', 'cat', 'dog', 'pig'])\n",
    "y_pred = np.array(['cat', 'pig', 'dog', 'cat', 'cat', 'dog'])\n",
    "precision_recall_fscore_support(y_true, y_pred, average='macro')"
   ]
  },
  {
   "cell_type": "markdown",
   "metadata": {},
   "source": [
    "### Calculating each metric separately"
   ]
  },
  {
   "cell_type": "code",
   "execution_count": 10,
   "metadata": {},
   "outputs": [
    {
     "name": "stdout",
     "output_type": "stream",
     "text": [
      "Precision: 0.750\n"
     ]
    }
   ],
   "source": [
    "# calculates precision for 1:100 dataset with 90 tp and 30 fp\n",
    "from sklearn.metrics import precision_score\n",
    "# define actual\n",
    "act_pos = [1 for _ in range(100)]\n",
    "act_neg = [0 for _ in range(10000)]\n",
    "y_true = act_pos + act_neg\n",
    "# define predictions\n",
    "pred_pos = [0 for _ in range(10)] + [1 for _ in range(90)]\n",
    "pred_neg = [1 for _ in range(30)] + [0 for _ in range(9970)]\n",
    "y_pred = pred_pos + pred_neg\n",
    "# calculate prediction\n",
    "precision = precision_score(y_true, y_pred, average='binary')\n",
    "print('Precision: %.3f' % precision)"
   ]
  },
  {
   "cell_type": "code",
   "execution_count": 11,
   "metadata": {},
   "outputs": [
    {
     "name": "stdout",
     "output_type": "stream",
     "text": [
      "Recall: 0.900\n"
     ]
    }
   ],
   "source": [
    "# calculates recall for 1:100 dataset with 90 tp and 10 fn\n",
    "from sklearn.metrics import recall_score\n",
    "# define actual\n",
    "act_pos = [1 for _ in range(100)]\n",
    "act_neg = [0 for _ in range(10000)]\n",
    "y_true = act_pos + act_neg\n",
    "# define predictions\n",
    "pred_pos = [0 for _ in range(10)] + [1 for _ in range(90)]\n",
    "pred_neg = [0 for _ in range(10000)]\n",
    "y_pred = pred_pos + pred_neg\n",
    "# calculate recall\n",
    "recall = recall_score(y_true, y_pred, average='binary')\n",
    "print('Recall: %.3f' % recall)"
   ]
  },
  {
   "cell_type": "code",
   "execution_count": 12,
   "metadata": {},
   "outputs": [
    {
     "name": "stdout",
     "output_type": "stream",
     "text": [
      "F-Measure: 0.760\n"
     ]
    }
   ],
   "source": [
    "# calculates f1 for 1:100 dataset with 95tp, 5fn, 55fp\n",
    "from sklearn.metrics import f1_score\n",
    "# define actual\n",
    "act_pos = [1 for _ in range(100)]\n",
    "act_neg = [0 for _ in range(10000)]\n",
    "y_true = act_pos + act_neg\n",
    "# define predictions\n",
    "pred_pos = [0 for _ in range(5)] + [1 for _ in range(95)]\n",
    "pred_neg = [1 for _ in range(55)] + [0 for _ in range(9945)]\n",
    "y_pred = pred_pos + pred_neg\n",
    "# calculate score\n",
    "score = f1_score(y_true, y_pred, average='binary')\n",
    "print('F-Measure: %.3f' % score)"
   ]
  },
  {
   "cell_type": "code",
   "execution_count": 13,
   "metadata": {},
   "outputs": [
    {
     "name": "stdout",
     "output_type": "stream",
     "text": [
      "Accuracy: 0.500\n"
     ]
    }
   ],
   "source": [
    "from sklearn.metrics import accuracy_score\n",
    "y_pred = [0, 2, 1, 3]\n",
    "y_true = [0, 1, 2, 3]\n",
    "accuracy = accuracy_score(y_true, y_pred)\n",
    "print('Accuracy: %.3f' % accuracy)"
   ]
  },
  {
   "cell_type": "markdown",
   "metadata": {},
   "source": [
    "### Confusion Matrix"
   ]
  },
  {
   "cell_type": "code",
   "execution_count": 14,
   "metadata": {},
   "outputs": [
    {
     "data": {
      "text/plain": [
       "array([[2, 0, 0],\n",
       "       [0, 0, 1],\n",
       "       [1, 0, 2]])"
      ]
     },
     "execution_count": 14,
     "metadata": {},
     "output_type": "execute_result"
    }
   ],
   "source": [
    "from sklearn.metrics import confusion_matrix\n",
    "y_true = [\"cat\", \"ant\", \"cat\", \"cat\", \"ant\", \"bird\"]\n",
    "y_pred = [\"ant\", \"ant\", \"cat\", \"cat\", \"ant\", \"cat\"]\n",
    "confusion_matrix(y_true, y_pred, labels=[\"ant\", \"bird\", \"cat\"]) "
   ]
  },
  {
   "cell_type": "markdown",
   "metadata": {},
   "source": [
    "This is an example to show how to visualize a confusion matrix. It helps in understanding the distribution and performance of a model"
   ]
  },
  {
   "cell_type": "code",
   "execution_count": 16,
   "metadata": {},
   "outputs": [
    {
     "data": {
      "text/plain": [
       "<matplotlib.axes._subplots.AxesSubplot at 0x7ffcce50af10>"
      ]
     },
     "execution_count": 16,
     "metadata": {},
     "output_type": "execute_result"
    },
    {
     "data": {
      "image/png": "[encoded data removed]",
      "text/plain": [
       "<Figure size 720x504 with 2 Axes>"
      ]
     },
     "metadata": {
      "needs_background": "light"
     },
     "output_type": "display_data"
    }
   ],
   "source": [
    "import seaborn as sn\n",
    "import pandas as pd\n",
    "import matplotlib.pyplot as plt\n",
    "array = [[33,2,0,0,0,0,0,0,0,1,3], \n",
    "        [3,31,0,0,0,0,0,0,0,0,0], \n",
    "        [0,4,41,0,0,0,0,0,0,0,1], \n",
    "        [0,1,0,30,0,6,0,0,0,0,1], \n",
    "        [0,0,0,0,38,10,0,0,0,0,0], \n",
    "        [0,0,0,3,1,39,0,0,0,0,4], \n",
    "        [0,2,2,0,4,1,31,0,0,0,2],\n",
    "        [0,1,0,0,0,0,0,36,0,2,0], \n",
    "        [0,0,0,0,0,0,1,5,37,5,1], \n",
    "        [3,0,0,0,0,0,0,0,0,39,0], \n",
    "        [0,0,0,0,0,0,0,0,0,0,38]]\n",
    "df_cm = pd.DataFrame(array, index = [i for i in \"ABCDEFGHIJK\"],\n",
    "                  columns = [i for i in \"ABCDEFGHIJK\"])\n",
    "plt.figure(figsize = (10,7))\n",
    "sn.heatmap(df_cm, annot=True)"
   ]
  },
  {
   "cell_type": "code",
   "execution_count": null,
   "metadata": {},
   "outputs": [],
   "source": []
  }
 ],
 "metadata": {
  "kernelspec": {
   "display_name": "Python 3",
   "language": "python",
   "name": "python3"
  },
  "language_info": {
   "codemirror_mode": {
    "name": "ipython",
    "version": 3
   },
   "file_extension": ".py",
   "mimetype": "text/x-python",
   "name": "python",
   "nbconvert_exporter": "python",
   "pygments_lexer": "ipython3",
   "version": "3.7.4"
  }
 },
 "nbformat": 4,
 "nbformat_minor": 2
}
