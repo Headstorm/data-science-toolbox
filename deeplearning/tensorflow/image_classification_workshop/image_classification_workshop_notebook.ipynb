{
  "cells": [
    {
      "cell_type": "code",
      "execution_count": null,
      "metadata": {
        "id": "ywLQon9EZh-6"
      },
      "outputs": [],
      "source": [
        "# Unzip the fruit images\n",
        "!unzip fruits.zip"
      ]
    },
    {
      "cell_type": "code",
      "execution_count": null,
      "metadata": {
        "id": "GzITM1fort_K"
      },
      "outputs": [],
      "source": [
        "# Clean up our folder and filenames\n",
        "rm -rf `find -type d -name .ipynb_checkpoints`\n",
        "%cd fruits\n",
        "%mv apple_validation.jpg apple_test.jpg\n",
        "%mv banana_validation.png banana_test.png\n",
        "%mv tomato_validation.jpg tomato_test.jpg\n",
        "%cd .."
      ]
    },
    {
      "cell_type": "code",
      "execution_count": null,
      "metadata": {
        "id": "Q_dzcYuSFfRt"
      },
      "outputs": [],
      "source": [
        "# Load our images into a NumPy array called \"training_data\"\n",
        "import cv2\n",
        "import os\n",
        "import random\n",
        "import matplotlib.pyplot as plt\n",
        "\n",
        "IMG_SIZE = 100\n",
        "dir=\"fruits/data\"\n",
        "\n",
        "def get_folder_names(directory_path):\n",
        "    folder_names = [folder for folder in os.listdir(directory_path) if os.path.isdir(os.path.join(directory_path, folder))]\n",
        "    return folder_names\n",
        "\n",
        "\n",
        "categories = get_folder_names(dir)\n",
        "\n",
        "def get_img_data(directory):\n",
        "\n",
        "  img_data = []\n",
        "  for catago in categories:\n",
        "      folder = os.path.join(directory, catago)\n",
        "      label = categories.index(catago)\n",
        "      for img in os.listdir(folder):\n",
        "          img_path = os.path.join(folder, img)\n",
        "          try:\n",
        "              # Attempt to read and resize the image\n",
        "              img_array = cv2.imread(img_path)\n",
        "              # img_array = cv2.imread(img_path, cv2.IMREAD_GRAYSCALE)\n",
        "              # img_array = cv2.cvtColor(img_array, cv2.COLOR_BGR2RGB)\n",
        "\n",
        "              new_array = cv2.resize(img_array, (IMG_SIZE, IMG_SIZE))\n",
        "\n",
        "              # Check if the image array is not empty\n",
        "              if new_array is not None and not new_array.size == 0:\n",
        "                  img_data.append([new_array, label])\n",
        "              else:\n",
        "                  print(f\"Error loading or resizing image: {img_path}\")\n",
        "\n",
        "          except Exception as e:\n",
        "              print(f\"Error processing image {img_path}: {str(e)}\")\n",
        "  return img_data\n",
        "\n",
        "training_data = get_img_data(dir)\n",
        "\n",
        "img_index = 0\n",
        "# Note what order the fruit categories are printed in. You will need to reference\n",
        "# this order during the model prediction step (the very last cell in this notebook)\n",
        "print(categories)\n",
        "print(len(training_data))\n",
        "\n",
        "## You can uncomment these lines to understand how NumPy visualizes our images\n",
        "\n",
        "# print(training_data[img_index][1])\n",
        "# plt.imshow(training_data[img_index][0], cmap = \"gray\")\n",
        "# plt.axis('off')\n",
        "# plt.show()\n",
        "\n",
        "# print(training_data[img_index])\n",
        "# print(training_data[img_index][0].shape)"
      ]
    },
    {
      "cell_type": "code",
      "execution_count": null,
      "metadata": {
        "id": "MXOHqeyqH5EC"
      },
      "outputs": [],
      "source": [
        "# Shuffle our array of images (training_data) to mix up\n",
        "# our CNN's learning pattern\n",
        "import random\n",
        "random.shuffle(training_data)"
      ]
    },
    {
      "cell_type": "code",
      "execution_count": null,
      "metadata": {
        "id": "RO6mLjGyyTB7"
      },
      "outputs": [],
      "source": [
        "# Separate our image data into two different arrays\n",
        "# 1. \"features\" is the image data our CNN will be trained on\n",
        "# 2. \"labels\" is what the CNN will use to classify each image (i.e. Apple, Orange, etc.)\n",
        "import numpy as np\n",
        "x=[]\n",
        "y=[]\n",
        "for features,labels in training_data:\n",
        "    x.append(features)\n",
        "    y.append(labels)\n",
        "\n",
        "#Convert X and Y list into array\n",
        "X=np.array(x).reshape(-1, IMG_SIZE, IMG_SIZE, 3)\n",
        "Y=np.array(y)\n",
        "\n",
        "# Normalization\n",
        "X = X/255\n",
        "\n",
        "from tensorflow.keras.utils import to_categorical\n",
        "# Since we're training the CNN to only identify 3 types of fruit, we'll set \"num_classes\" to 3\n",
        "# Be sure to update this number if you plan to have your CNN use a different number of fruits\n",
        "Y = to_categorical(Y, num_classes=3)\n"
      ]
    },
    {
      "cell_type": "markdown",
      "metadata": {
        "id": "Sb_drM1JL361"
      },
      "source": [
        "Now, we'll build your Convolutional Neural Network"
      ]
    },
    {
      "cell_type": "code",
      "execution_count": null,
      "metadata": {
        "id": "Fjx38KqwMI1-"
      },
      "outputs": [],
      "source": [
        "import tensorflow as tf\n",
        "from tensorflow.keras.models import Sequential\n",
        "from tensorflow.keras.layers import Dense, Dropout, Flatten, Conv2D, MaxPooling2D\n",
        "from keras.optimizers import Adam\n",
        "\n",
        "\n",
        "# Build our first Convolution layer\n",
        "model = Sequential()\n",
        "model.add(Conv2D(128, kernel_size=(3, 3), input_shape = (IMG_SIZE, IMG_SIZE, 3), activation=\"relu\"))\n",
        "model.add(MaxPooling2D(pool_size=(2,2)))\n",
        "model.add(Dropout(0.35))\n",
        "\n",
        "# Build our 2nd Convolution layer\n",
        "model.add(Conv2D(128, kernel_size=(3, 3), activation=\"relu\"))\n",
        "model.add(MaxPooling2D(pool_size=(2,2)))\n",
        "model.add(Dropout(0.35))\n",
        "\n",
        "# Dense layers require 1-D datasets, so we'll need to flatten our data\n",
        "# for this layer\n",
        "model.add(Flatten())\n",
        "model.add(Dense(64))\n",
        "model.add(Dropout(0.5))\n",
        "\n",
        "# Output layer\n",
        "model.add(Dense(3, activation=\"softmax\"))\n",
        "\n",
        "\n",
        "model.compile(loss=\"categorical_crossentropy\",\n",
        "              optimizer=\"adam\",\n",
        "              metrics=[\"accuracy\"])\n",
        "\n",
        "# Validation split is 10%\n",
        "model.fit(X, Y, epochs=5, validation_split=0.1)\n",
        "\n",
        "\n"
      ]
    },
    {
      "cell_type": "code",
      "execution_count": null,
      "metadata": {
        "colab": {
          "base_uri": "https://localhost:8080/"
        },
        "id": "RqP-L8jrrVLE",
        "outputId": "e89b7241-b695-4a13-9d70-62c4499baf17"
      },
      "outputs": [],
      "source": [
        "import cv2\n",
        "import tensorflow as tf\n",
        "\n",
        "# MAKE SURE THESE MATCH THE INDEXES OF YOUR CATEGORY\n",
        "class_names = {0: 'Orange', 1: 'Apple', 2: 'Banana'}\n",
        "\n",
        "#Model Prediction\n",
        "import cv2\n",
        "import numpy as np\n",
        "def predict_img(image,model):\n",
        "    test_img=cv2.imread(image)\n",
        "    test_img=cv2.resize(test_img,(IMG_SIZE,IMG_SIZE))\n",
        "    test_img=np.expand_dims(test_img, axis=0)\n",
        "    result=model.predict(test_img)\n",
        "    r=np.argmax(result)\n",
        "    print(class_names[r])\n",
        "\n",
        "predict_img('fruits/apple_test.jpg', model)\n",
        "predict_img('fruits/banana_test.png', model)\n",
        "predict_img('fruits/tomato_test.jpg', model)"
      ]
    }
  ],
  "metadata": {
    "colab": {
      "provenance": []
    },
    "kernelspec": {
      "display_name": "Python 3",
      "name": "python3"
    },
    "language_info": {
      "name": "python"
    }
  },
  "nbformat": 4,
  "nbformat_minor": 0
}
